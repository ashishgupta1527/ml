{
 "cells": [
  {
   "cell_type": "code",
   "execution_count": 1,
   "id": "321d66bd",
   "metadata": {},
   "outputs": [],
   "source": [
    "import random\n",
    "import math"
   ]
  },
  {
   "cell_type": "code",
   "execution_count": 18,
   "id": "94a1b3c0",
   "metadata": {},
   "outputs": [],
   "source": [
    "class Perceptron:\n",
    "    def __init__(self, inputs: list, output: int):\n",
    "        super(Perceptron, self).__init__()\n",
    "        self.inputs = inputs\n",
    "        self.output = output\n",
    "        self.weights = [random.randrange(1) for i in range(len(inputs))]\n",
    "    def forward_backward_pass(self):\n",
    "        weighted_sum = sum([x*y for x,y in zip(self.inputs, self.weights)])\n",
    "        # activation = 0 if weighted_sum < 0 else 1\n",
    "        activation = 1 / 1 + math.exp(-weighted_sum)\n",
    "        output_x = activation\n",
    "        error = 1/2 * (self.output - output_x) ** 2\n",
    "\n",
    "        # Backward Pass (Backpropogation)\n",
    "        new_weights = []\n",
    "        delta_w1 = (output_x * self.output) * \\\n",
    "            activation * (1 - activation) * self.inputs[0]\n",
    "        delta_w2 = (output_x * self.output) * \\\n",
    "            activation * (1 - activation) * self.inputs[1]\n",
    "        new_w1 = self.weights[0] - delta_w1\n",
    "        new_w2 = self.weights[1] - delta_w2\n",
    "        new_weights.append(new_w1)\n",
    "        new_weights.append(new_w2)\n",
    "        new_weighted_sum = sum([x*y for x,y in zip(self.inputs, new_weights)])\n",
    "\n",
    "        new_activation = 1 / 1 + math.exp(-new_weighted_sum)\n",
    "        new_output_x = new_activation\n",
    "        new_error = 1/2 * (self.output - new_output_x) ** 2\n",
    "        return error, new_error\n",
    "\n",
    "inputs = [0.3, 0.7]\n",
    "output = 1\n",
    "\n",
    "error_fp, error_bp = Perceptron(inputs, output).forward_backward_pass()"
   ]
  },
  {
   "cell_type": "code",
   "execution_count": 19,
   "id": "1d92528c",
   "metadata": {},
   "outputs": [
    {
     "name": "stdout",
     "output_type": "stream",
     "text": [
      "Forward pass error is: 0.5\n",
      "After Backpropagation error is: 0.004828848813768884\n"
     ]
    }
   ],
   "source": [
    "print(f\"Forward pass error is: {error_fp}\")\n",
    "print(f\"After Backpropagation error is: {error_bp}\")\n"
   ]
  },
  {
   "cell_type": "code",
   "execution_count": null,
   "id": "64b4588b",
   "metadata": {},
   "outputs": [],
   "source": []
  }
 ],
 "metadata": {
  "kernelspec": {
   "display_name": "Python 3 (ipykernel)",
   "language": "python",
   "name": "python3"
  },
  "language_info": {
   "codemirror_mode": {
    "name": "ipython",
    "version": 3
   },
   "file_extension": ".py",
   "mimetype": "text/x-python",
   "name": "python",
   "nbconvert_exporter": "python",
   "pygments_lexer": "ipython3",
   "version": "3.9.13"
  }
 },
 "nbformat": 4,
 "nbformat_minor": 5
}
